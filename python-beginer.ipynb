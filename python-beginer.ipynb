{
 "cells": [
  {
   "cell_type": "markdown",
   "metadata": {},
   "source": [
    "\n",
    "git add .\n",
    "git commit -m \"first commit\"\n",
    "git branch -M main\n",
    "git remote add origin https://github.com/aliamani212/learning-python.git\n",
    "git push -u origin main"
   ]
  },
  {
   "cell_type": "markdown",
   "metadata": {},
   "source": [
    "<div style=\"text-align: center;font-weight:bold;font-size:40px;color:red;font-family:'BKB.ttf'\">\n",
    "     عنوان\n",
    "</div>"
   ]
  },
  {
   "cell_type": "markdown",
   "metadata": {},
   "source": [
    "<div style=\"text-align: center;font-weight:bold;font-size:30px;color:yellow;font-family:'BKB.ttf'\">\n",
    "     زیر عنوان\n",
    "</div>"
   ]
  },
  {
   "cell_type": "markdown",
   "metadata": {},
   "source": [
    "<div style=\"text-align: right;font-weight:bold;font-size:20px;color:white;font-family:'BKB.ttf'\">\n",
    "     توضیحات\n",
    "</div>"
   ]
  },
  {
   "cell_type": "markdown",
   "metadata": {},
   "source": [
    "**********************************************************************"
   ]
  },
  {
   "cell_type": "markdown",
   "metadata": {},
   "source": [
    "<div style=\"text-align: right;font-weight:bold;font-size:20px;font-family:'BKB.ttf'\">\n",
    "     از مفسر پایتون به عنوان ماشین حساب میتوان استفاده کرد\n",
    "</div>"
   ]
  },
  {
   "cell_type": "code",
   "execution_count": null,
   "metadata": {},
   "outputs": [
    {
     "data": {
      "text/plain": [
       "120"
      ]
     },
     "execution_count": 1,
     "metadata": {},
     "output_type": "execute_result"
    }
   ],
   "source": [
    "45+75"
   ]
  },
  {
   "cell_type": "code",
   "execution_count": null,
   "metadata": {},
   "outputs": [],
   "source": []
  },
  {
   "cell_type": "code",
   "execution_count": null,
   "metadata": {},
   "outputs": [
    {
     "data": {
      "text/plain": [
       "20"
      ]
     },
     "execution_count": 6,
     "metadata": {},
     "output_type": "execute_result"
    }
   ],
   "source": [
    "4*5\n",
    "# 5/2\n",
    "# 5//2\n",
    "# 5%2\n",
    "# 5**2"
   ]
  },
  {
   "cell_type": "markdown",
   "metadata": {},
   "source": [
    "<div style=\"text-align: right;font-weight:bold;font-size:20px;color:white;font-family:'BKB.ttf'\">\n",
    " تقدم عملگرها: 1.پرانتز   2.توان   3.ضرب و تقسیم و باقیمانده    4. جمع و تفریق\n",
    "</div>"
   ]
  },
  {
   "cell_type": "markdown",
   "metadata": {},
   "source": [
    "<div style=\"text-align: center;font-weight:bold;font-size:30px;color:yellow;font-family:'BKB.ttf'\">\n",
    "     تابع پرینت\n",
    "</div>"
   ]
  },
  {
   "cell_type": "code",
   "execution_count": 5,
   "metadata": {},
   "outputs": [
    {
     "name": "stdout",
     "output_type": "stream",
     "text": [
      "salam khobi agha\n"
     ]
    }
   ],
   "source": [
    "print('salam \\\n",
    "khobi \\\n",
    "agha')"
   ]
  },
  {
   "cell_type": "code",
   "execution_count": 6,
   "metadata": {},
   "outputs": [
    {
     "name": "stdout",
     "output_type": "stream",
     "text": [
      "salam khobi chetori\n"
     ]
    }
   ],
   "source": [
    "print('salam','khobi','chetori')"
   ]
  },
  {
   "cell_type": "code",
   "execution_count": 7,
   "metadata": {},
   "outputs": [
    {
     "name": "stdout",
     "output_type": "stream",
     "text": [
      "salam\n",
      "chetori\n",
      "khobi\n"
     ]
    }
   ],
   "source": [
    "print('salam\\nchetori\\nkhobi')"
   ]
  },
  {
   "cell_type": "code",
   "execution_count": 12,
   "metadata": {},
   "outputs": [
    {
     "name": "stdout",
     "output_type": "stream",
     "text": [
      "salam\tagha\\khobi\"ok'\n"
     ]
    }
   ],
   "source": [
    "print('salam\\tagha\\\\khobi\\\"ok\\'')\n",
    "#ham ba koteyshen ham fh double koteyshen javabe"
   ]
  },
  {
   "cell_type": "code",
   "execution_count": 13,
   "metadata": {},
   "outputs": [
    {
     "name": "stdout",
     "output_type": "stream",
     "text": [
      "sum is :  10\n"
     ]
    }
   ],
   "source": [
    "print('sum is : ',7+3)"
   ]
  },
  {
   "cell_type": "code",
   "execution_count": 18,
   "metadata": {},
   "outputs": [
    {
     "name": "stdout",
     "output_type": "stream",
     "text": [
      "salam in test 3 \n",
      "cot ast\n"
     ]
    }
   ],
   "source": [
    "print('''salam in test 3 \n",
    "     ...:cot ast''')"
   ]
  },
  {
   "cell_type": "code",
   "execution_count": null,
   "metadata": {},
   "outputs": [],
   "source": [
    "n = int(input('enter a number:'))\n",
    "m = (input('enter number two:'))\n",
    "print(n+m)"
   ]
  },
  {
   "cell_type": "code",
   "execution_count": 23,
   "metadata": {},
   "outputs": [
    {
     "name": "stdout",
     "output_type": "stream",
     "text": [
      "string."
     ]
    }
   ],
   "source": [
    "print('string',end='.',sep=',',file=None,flush=True)    "
   ]
  },
  {
   "cell_type": "markdown",
   "metadata": {},
   "source": [
    "<div style=\"direction:rtl;text-align:center;font-weight:bold;font-size:30px;color:yellow;font-family:'BKB.ttf'\">\n",
    "    دستور if و عملگرهای مقایسه ای\n",
    "</div>"
   ]
  },
  {
   "cell_type": "code",
   "execution_count": null,
   "metadata": {},
   "outputs": [],
   "source": [
    "a = 0\n",
    "b = 1\n",
    "if a>b:\n",
    "    pass\n",
    "else:\n",
    "    pass"
   ]
  },
  {
   "cell_type": "code",
   "execution_count": 25,
   "metadata": {},
   "outputs": [
    {
     "name": "stdout",
     "output_type": "stream",
     "text": [
      "adad zoj\n"
     ]
    }
   ],
   "source": [
    "#تشخیص زوج یا فرد بودن\n",
    "num = int(input('enter a number : '))\n",
    "if num%2 == 0 :\n",
    "   print('adad zoj')\n",
    "else:\n",
    "   print('adad fard')"
   ]
  },
  {
   "cell_type": "code",
   "execution_count": null,
   "metadata": {},
   "outputs": [],
   "source": []
  }
 ],
 "metadata": {
  "kernelspec": {
   "display_name": "Python 3",
   "language": "python",
   "name": "python3"
  },
  "language_info": {
   "codemirror_mode": {
    "name": "ipython",
    "version": 3
   },
   "file_extension": ".py",
   "mimetype": "text/x-python",
   "name": "python",
   "nbconvert_exporter": "python",
   "pygments_lexer": "ipython3",
   "version": "3.11.6"
  }
 },
 "nbformat": 4,
 "nbformat_minor": 2
}
