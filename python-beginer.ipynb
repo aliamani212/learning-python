{
 "cells": [
  {
   "cell_type": "markdown",
   "metadata": {},
   "source": [
    "\n",
    "git add .\n",
    "git commit -m \"first commit\"\n",
    "git branch -M main\n",
    "git remote add origin https://github.com/aliamani212/learning-python.git\n",
    "git push -u origin main"
   ]
  },
  {
   "cell_type": "markdown",
   "metadata": {},
   "source": [
    "<div style=\"text-align: center;font-weight:bold;font-size:40px;color:red;font-family:'BKB.ttf'\">\n",
    "     عنوان\n",
    "</div>"
   ]
  },
  {
   "cell_type": "markdown",
   "metadata": {},
   "source": [
    "<div style=\"text-align: center;font-weight:bold;font-size:30px;color:yellow;font-family:'BKB.ttf'\">\n",
    "     زیر عنوان\n",
    "</div>"
   ]
  },
  {
   "cell_type": "markdown",
   "metadata": {},
   "source": [
    "<div style=\"text-align: right;font-weight:bold;font-size:20px;color:white;font-family:'BKB.ttf'\">\n",
    "     توضیحات\n",
    "</div>"
   ]
  },
  {
   "cell_type": "markdown",
   "metadata": {},
   "source": [
    "**********************************************************************"
   ]
  },
  {
   "cell_type": "markdown",
   "metadata": {},
   "source": [
    "<div style=\"text-align: right;font-weight:bold;font-size:20px;font-family:'BKB.ttf'\">\n",
    "     از مفسر پایتون به عنوان ماشین حساب میتوان استفاده کرد\n",
    "</div>"
   ]
  },
  {
   "cell_type": "code",
   "execution_count": 2,
   "metadata": {},
   "outputs": [
    {
     "data": {
      "text/plain": [
       "120"
      ]
     },
     "execution_count": 2,
     "metadata": {},
     "output_type": "execute_result"
    }
   ],
   "source": [
    "45+75"
   ]
  },
  {
   "cell_type": "code",
   "execution_count": null,
   "metadata": {},
   "outputs": [
    {
     "data": {
      "text/plain": [
       "20"
      ]
     },
     "execution_count": 6,
     "metadata": {},
     "output_type": "execute_result"
    }
   ],
   "source": [
    "4*5\n",
    "# 5/2\n",
    "# 5//2\n",
    "# 5%2\n",
    "# 5**2"
   ]
  },
  {
   "cell_type": "markdown",
   "metadata": {},
   "source": [
    "<div style=\"text-align: right;font-weight:bold;font-size:20px;color:white;font-family:'BKB.ttf'\">\n",
    " تقدم عملگرها: 1.پرانتز   2.توان   3.ضرب و تقسیم و باقیمانده    4. جمع و تفریق\n",
    "</div>"
   ]
  },
  {
   "cell_type": "markdown",
   "metadata": {},
   "source": [
    "******************************************************"
   ]
  },
  {
   "cell_type": "markdown",
   "metadata": {},
   "source": [
    "<div style=\"text-align: center;font-weight:bold;font-size:30px;color:yellow;font-family:'BKB.ttf'\">\n",
    "     تابع پرینت\n",
    "</div>"
   ]
  },
  {
   "cell_type": "code",
   "execution_count": 5,
   "metadata": {},
   "outputs": [
    {
     "name": "stdout",
     "output_type": "stream",
     "text": [
      "salam khobi agha\n"
     ]
    }
   ],
   "source": [
    "print('salam \\\n",
    "khobi \\\n",
    "agha')"
   ]
  },
  {
   "cell_type": "code",
   "execution_count": 6,
   "metadata": {},
   "outputs": [
    {
     "name": "stdout",
     "output_type": "stream",
     "text": [
      "salam khobi chetori\n"
     ]
    }
   ],
   "source": [
    "print('salam','khobi','chetori')"
   ]
  },
  {
   "cell_type": "code",
   "execution_count": 7,
   "metadata": {},
   "outputs": [
    {
     "name": "stdout",
     "output_type": "stream",
     "text": [
      "salam\n",
      "chetori\n",
      "khobi\n"
     ]
    }
   ],
   "source": [
    "print('salam\\nchetori\\nkhobi')"
   ]
  },
  {
   "cell_type": "code",
   "execution_count": 12,
   "metadata": {},
   "outputs": [
    {
     "name": "stdout",
     "output_type": "stream",
     "text": [
      "salam\tagha\\khobi\"ok'\n"
     ]
    }
   ],
   "source": [
    "print('salam\\tagha\\\\khobi\\\"ok\\'')\n",
    "#ham ba koteyshen ham fh double koteyshen javabe"
   ]
  },
  {
   "cell_type": "code",
   "execution_count": 13,
   "metadata": {},
   "outputs": [
    {
     "name": "stdout",
     "output_type": "stream",
     "text": [
      "sum is :  10\n"
     ]
    }
   ],
   "source": [
    "print('sum is : ',7+3)"
   ]
  },
  {
   "cell_type": "code",
   "execution_count": 18,
   "metadata": {},
   "outputs": [
    {
     "name": "stdout",
     "output_type": "stream",
     "text": [
      "salam in test 3 \n",
      "cot ast\n"
     ]
    }
   ],
   "source": [
    "print('''salam in test 3 \n",
    "     ...:cot ast''')"
   ]
  },
  {
   "cell_type": "code",
   "execution_count": null,
   "metadata": {},
   "outputs": [],
   "source": [
    "n = int(input('enter a number:'))\n",
    "m = (input('enter number two:'))\n",
    "print(n+m)"
   ]
  },
  {
   "cell_type": "code",
   "execution_count": 1,
   "metadata": {},
   "outputs": [
    {
     "name": "stdout",
     "output_type": "stream",
     "text": [
      "string."
     ]
    }
   ],
   "source": [
    "print('string',end='.',sep=',',file=None,flush=True)    "
   ]
  },
  {
   "cell_type": "markdown",
   "metadata": {},
   "source": [
    "******************************"
   ]
  },
  {
   "cell_type": "markdown",
   "metadata": {},
   "source": [
    "<div style=\"direction:rtl;text-align:center;font-weight:bold;font-size:30px;color:yellow;font-family:'BKB.ttf'\">\n",
    "    دستور if و عملگرهای مقایسه ای\n",
    "</div>"
   ]
  },
  {
   "cell_type": "code",
   "execution_count": null,
   "metadata": {},
   "outputs": [],
   "source": [
    "a = 0\n",
    "b = 1\n",
    "if a>b:\n",
    "    pass\n",
    "else:\n",
    "    pass"
   ]
  },
  {
   "cell_type": "code",
   "execution_count": 25,
   "metadata": {},
   "outputs": [
    {
     "name": "stdout",
     "output_type": "stream",
     "text": [
      "adad zoj\n"
     ]
    }
   ],
   "source": [
    "#تشخیص زوج یا فرد بودن\n",
    "num = int(input('enter a number : '))\n",
    "if num%2 == 0 :\n",
    "   print('adad zoj')\n",
    "else:\n",
    "   print('adad fard')"
   ]
  },
  {
   "cell_type": "code",
   "execution_count": 4,
   "metadata": {},
   "outputs": [
    {
     "name": "stdout",
     "output_type": "stream",
     "text": [
      "out of range!\n"
     ]
    }
   ],
   "source": [
    "n = int(input('enter number:'))\n",
    "if 8> n >0 :\n",
    "    if n == 1:\n",
    "        print('شنبه')\n",
    "    elif n == 2:\n",
    "        print('یکشنبه')\n",
    "    elif n == 3:\n",
    "        print('دوشنبه')\n",
    "    elif n == 4:\n",
    "        print('سه شنبه')\n",
    "    elif n == 5:\n",
    "        print('چهار شنبه')\n",
    "    elif n == 6:\n",
    "        print('پنج شنبه')\n",
    "    else :\n",
    "        print('جمعه')\n",
    "else:\n",
    "    print('out of range!')"
   ]
  },
  {
   "cell_type": "code",
   "execution_count": 11,
   "metadata": {},
   "outputs": [
    {
     "name": "stdout",
     "output_type": "stream",
     "text": [
      "danyal\n"
     ]
    }
   ],
   "source": [
    "str1 = input('enter a name:')\n",
    "print('danyal') if str1 == 'hemat' else 'meysam'"
   ]
  },
  {
   "cell_type": "markdown",
   "metadata": {},
   "source": [
    "<div style=\"direction:rtl;text-align: center;font-weight:bold;font-size:30px;color:yellow;font-family:'BKB.ttf'\">\n",
    "     دستور while\n",
    "</div>"
   ]
  },
  {
   "cell_type": "code",
   "execution_count": null,
   "metadata": {},
   "outputs": [],
   "source": [
    "while True:\n",
    "    op = input('enter operator:(enter ex t exit)')\n",
    "    if op == 'ex':\n",
    "        break\n",
    "    n1 = float(input('enter number 1:'))\n",
    "    n2 = float(input('enter number 2:'))\n",
    "    match op:\n",
    "        case '-' :\n",
    "            print(f'{n1}-{n2} = {n1-n2}')\n",
    "        case '*' :\n",
    "            print(f'{n1}*{n2} = {n1*n2}')\n",
    "        case '+' :\n",
    "            print(f'{n1}+{n2} = {n1+n2}')\n",
    "        case '/' :\n",
    "            print(f'{n1}/{n2} = {n1/n2}')"
   ]
  },
  {
   "cell_type": "code",
   "execution_count": null,
   "metadata": {},
   "outputs": [],
   "source": [
    "i = 1\n",
    "while 0 < i < 10:\n",
    "    if i%2 == 0:\n",
    "        print(i)\n",
    "    else :\n",
    "        i += 1\n",
    "        continue\n",
    "    i += 1"
   ]
  },
  {
   "cell_type": "code",
   "execution_count": null,
   "metadata": {},
   "outputs": [],
   "source": [
    "#print n star\n",
    "n = int(input('enter a number:'))\n",
    "while n!= 9:\n",
    "    n = int(input('enter a number:'))\n",
    "    print(n*'*')\n",
    "else:\n",
    "    print('wrong')"
   ]
  },
  {
   "cell_type": "markdown",
   "metadata": {},
   "source": [
    "<div style=\"direction:rtl;text-align: center;font-weight:bold;font-size:30px;color:yellow;font-family:'BKB.ttf'\">\n",
    "     دستور for\n",
    "</div>"
   ]
  },
  {
   "cell_type": "code",
   "execution_count": null,
   "metadata": {},
   "outputs": [],
   "source": [
    "for i in range('start','stop','step'):\n",
    "    print(i)"
   ]
  },
  {
   "cell_type": "code",
   "execution_count": 3,
   "metadata": {},
   "outputs": [
    {
     "name": "stdout",
     "output_type": "stream",
     "text": [
      "720\n"
     ]
    }
   ],
   "source": [
    "#******************* afctorial**************\n",
    "n =int(input('enter the number:'))\n",
    "fac = 1\n",
    "for i in range(1,n+1):\n",
    "    fac *= i\n",
    "print(fac)"
   ]
  },
  {
   "cell_type": "code",
   "execution_count": 4,
   "metadata": {},
   "outputs": [
    {
     "name": "stdout",
     "output_type": "stream",
     "text": [
      "81\n"
     ]
    }
   ],
   "source": [
    "#******(n**m)*************************\n",
    "n1 =int(input('enter number 1:'))\n",
    "n2 =int(input('enter number 2:'))\n",
    "\n",
    "sum = 1\n",
    "for i in range(n2):\n",
    "    sum *= n1\n",
    "print(sum)"
   ]
  },
  {
   "cell_type": "code",
   "execution_count": 5,
   "metadata": {},
   "outputs": [
    {
     "name": "stdout",
     "output_type": "stream",
     "text": [
      "0.004166666666666666\n"
     ]
    }
   ],
   "source": [
    "#**********series(1/2!+2/3!-3/4!...)**********\n",
    "n =int(input('enter the number:'))\n",
    "\n",
    "sum = 0\n",
    "\n",
    "for i in range(1,n+1):\n",
    "    fac = 1\n",
    "    for j in range(1,n+2):\n",
    "        fac *= j\n",
    "    if i%2 == 1:\n",
    "        sum += i/fac\n",
    "    else:\n",
    "        sum -= i/fac\n",
    "print(sum)"
   ]
  },
  {
   "cell_type": "code",
   "execution_count": null,
   "metadata": {},
   "outputs": [],
   "source": [
    "#************sekeh*************\n",
    "daftar = 4\n",
    "ketab = 6\n",
    "medad = 8\n",
    "amount = 120\n",
    "\n",
    "for i in range(1,amount//(daftar)+1):\n",
    "    sum = i*daftar\n",
    "    \n",
    "    if (sum) <= amount:\n",
    "        sum += daftar\n",
    "        for j in range(1,amount//(ketab)+1):\n",
    "            if (sum + ketab) <= amount:\n",
    "                sum += ketab\n",
    "            \n",
    "                for k in range(1,amount//(medad)+1):\n",
    "                    if (sum + medad) <= amount:\n",
    "                        sum += medad\n",
    "                    else:\n",
    "                        if sum+daftar >= amount and sum+daftar >= amount and sum+daftar >= amount:\n",
    "                            print(f'amount = {amount}, daftar = {i}, ketab = {j}, medad = {k-1}')\n",
    "                            sum = i*daftar + j*ketab\n",
    "                            break\n",
    "                        else:\n",
    "                            sum = i*daftar + j*ketab\n",
    "                            break\n",
    "            else:\n",
    "                if sum+daftar >= amount and sum+daftar >= amount and sum+daftar >= amount:\n",
    "                    print(f'amount = {amount}, daftar = {i}, ketab = {j-1}, medad = {k}')\n",
    "                    break\n",
    "                else:\n",
    "                    break\n",
    "\n",
    "    else:\n",
    "        print(f'amount = {amount}, daftar = {i-1}, ketab = {j}, medad = {k}')"
   ]
  },
  {
   "cell_type": "code",
   "execution_count": null,
   "metadata": {},
   "outputs": [],
   "source": [
    "#******************************fibonachi***********************\n",
    "a = 1\n",
    "b = 1\n",
    "n = int(input('enter a number : '))\n",
    "print(f'{a},{b}',end=',')\n",
    "for i in range(n-2):\n",
    "    # c = b\n",
    "    # b = a+b\n",
    "    c,b = b , a+b\n",
    "    print(f',{b}',end='')\n",
    "    a = c"
   ]
  },
  {
   "cell_type": "code",
   "execution_count": null,
   "metadata": {},
   "outputs": [],
   "source": [
    "#اعداد متقارنی قبل از اعداد ورودی\n",
    "n = int(input('enter a  number:'))\n",
    "\n",
    "for i in range(10,n+1):\n",
    "    revers = 0\n",
    "    old = i\n",
    "    while i>0:\n",
    "        remain = i % 10\n",
    "        revers =  revers * 10 + remain\n",
    "        i //= 10\n",
    "    if revers == old:\n",
    "        print(revers)"
   ]
  },
  {
   "cell_type": "code",
   "execution_count": 39,
   "metadata": {},
   "outputs": [
    {
     "name": "stdout",
     "output_type": "stream",
     "text": [
      "10\n"
     ]
    }
   ],
   "source": [
    "x=int(input('enter number 1:'))\n",
    "y=int(input('enter number 2:'))\n",
    "n = z = 0\n",
    "if abs(x)>abs(y):\n",
    "    n=abs(x)\n",
    "else:\n",
    "    n=abs(y)\n",
    "for i in range (1,n+1):\n",
    "    if abs(x)%i ==0 and abs(y)%i ==0 :\n",
    "        z=i\n",
    "\n",
    "print(z)"
   ]
  }
 ],
 "metadata": {
  "kernelspec": {
   "display_name": "Python 3",
   "language": "python",
   "name": "python3"
  },
  "language_info": {
   "codemirror_mode": {
    "name": "ipython",
    "version": 3
   },
   "file_extension": ".py",
   "mimetype": "text/x-python",
   "name": "python",
   "nbconvert_exporter": "python",
   "pygments_lexer": "ipython3",
   "version": "3.12.3"
  }
 },
 "nbformat": 4,
 "nbformat_minor": 2
}
